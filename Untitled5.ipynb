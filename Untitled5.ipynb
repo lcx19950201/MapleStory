{
 "cells": [
  {
   "cell_type": "code",
   "execution_count": 1,
   "metadata": {},
   "outputs": [
    {
     "name": "stdout",
     "output_type": "stream",
     "text": [
      "(1, 1)\n"
     ]
    }
   ],
   "source": [
    "from __future__ import division\n",
    "\n",
    "from copy import deepcopy\n",
    "from mcts import mcts\n",
    "from functools import reduce\n",
    "import operator\n",
    "\n",
    "\n",
    "class NaughtsAndCrossesState():\n",
    "    def __init__(self):\n",
    "        self.board = [[0, 0, 0], [0, 0, 0], [0, 0, 0]]\n",
    "        self.currentPlayer = 1\n",
    "\n",
    "    def getCurrentPlayer(self):\n",
    "        return self.currentPlayer\n",
    "\n",
    "    def getPossibleActions(self):\n",
    "        possibleActions = []\n",
    "        for i in range(len(self.board)):\n",
    "            for j in range(len(self.board[i])):\n",
    "                if self.board[i][j] == 0:\n",
    "                    possibleActions.append(Action(player=self.currentPlayer, x=i, y=j))\n",
    "        return possibleActions\n",
    "\n",
    "    def takeAction(self, action):\n",
    "        newState = deepcopy(self)\n",
    "        newState.board[action.x][action.y] = action.player\n",
    "        newState.currentPlayer = self.currentPlayer * -1\n",
    "        return newState\n",
    "\n",
    "    def isTerminal(self):\n",
    "        for row in self.board:\n",
    "            if abs(sum(row)) == 3:\n",
    "                return True\n",
    "        for column in list(map(list, zip(*self.board))):\n",
    "            if abs(sum(column)) == 3:\n",
    "                return True\n",
    "        for diagonal in [[self.board[i][i] for i in range(len(self.board))],\n",
    "                         [self.board[i][len(self.board) - i - 1] for i in range(len(self.board))]]:\n",
    "            if abs(sum(diagonal)) == 3:\n",
    "                return True\n",
    "        return reduce(operator.mul, sum(self.board, []), 1)\n",
    "\n",
    "    def getReward(self):\n",
    "        for row in self.board:\n",
    "            if abs(sum(row)) == 3:\n",
    "                return sum(row) / 3\n",
    "        for column in list(map(list, zip(*self.board))):\n",
    "            if abs(sum(column)) == 3:\n",
    "                return sum(column) / 3\n",
    "        for diagonal in [[self.board[i][i] for i in range(len(self.board))],\n",
    "                         [self.board[i][len(self.board) - i - 1] for i in range(len(self.board))]]:\n",
    "            if abs(sum(diagonal)) == 3:\n",
    "                return sum(diagonal) / 3\n",
    "        return False\n",
    "\n",
    "\n",
    "class Action():\n",
    "    def __init__(self, player, x, y):\n",
    "        self.player = player\n",
    "        self.x = x\n",
    "        self.y = y\n",
    "\n",
    "    def __str__(self):\n",
    "        return str((self.x, self.y))\n",
    "\n",
    "    def __repr__(self):\n",
    "        return str(self)\n",
    "\n",
    "    def __eq__(self, other):\n",
    "        return self.__class__ == other.__class__ and self.x == other.x and self.y == other.y and self.player == other.player\n",
    "\n",
    "    def __hash__(self):\n",
    "        return hash((self.x, self.y, self.player))\n",
    "\n",
    "\n",
    "initialState = NaughtsAndCrossesState()\n",
    "mcts = mcts(timeLimit=1000)\n",
    "action = mcts.search(initialState=initialState)\n",
    "\n",
    "print(action)"
   ]
  },
  {
   "cell_type": "code",
   "execution_count": 2,
   "metadata": {},
   "outputs": [
    {
     "name": "stdout",
     "output_type": "stream",
     "text": [
      "(1, 1)\n"
     ]
    }
   ],
   "source": [
    "print(action)"
   ]
  },
  {
   "cell_type": "code",
   "execution_count": null,
   "metadata": {},
   "outputs": [],
   "source": []
  },
  {
   "cell_type": "code",
   "execution_count": null,
   "metadata": {},
   "outputs": [],
   "source": []
  }
 ],
 "metadata": {
  "kernelspec": {
   "display_name": "Python 3",
   "language": "python",
   "name": "python3"
  },
  "language_info": {
   "codemirror_mode": {
    "name": "ipython",
    "version": 3
   },
   "file_extension": ".py",
   "mimetype": "text/x-python",
   "name": "python",
   "nbconvert_exporter": "python",
   "pygments_lexer": "ipython3",
   "version": "3.8.0"
  }
 },
 "nbformat": 4,
 "nbformat_minor": 4
}
