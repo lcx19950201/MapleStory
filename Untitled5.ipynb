{
 "cells": [
  {
   "cell_type": "code",
   "execution_count": 1,
   "metadata": {},
   "outputs": [],
   "source": [
    "from __future__ import division\n",
    "\n",
    "from copy import deepcopy\n",
    "from mcts import mcts\n",
    "from functools import reduce\n",
    "import operator"
   ]
  },
  {
   "cell_type": "code",
   "execution_count": 2,
   "metadata": {},
   "outputs": [
    {
     "name": "stdout",
     "output_type": "stream",
     "text": [
      "(1, 1)\n"
     ]
    }
   ],
   "source": [
    "class State():\n",
    "    board = [[0],\n",
    "         [0,0],\n",
    "         [0,0,0],\n",
    "        [0,0,0,0],\n",
    "        [0,0,0,0,0],\n",
    "        [0,0,0,0,0,0],\n",
    "        [0,0,0,0,0,0,0],\n",
    "        [0,0,0,0,0,0,0,0]]\n",
    "    \n",
    "    def qz():\n",
    "        allzi = [1,1,1,1,1,1,1,2,2,2,2,2,2,2,3,3,3,3,3,3,3,4,4,4,4,4,4,4,5,5,5,5,5,5,5,6]\n",
    "        p1z = []\n",
    "        p2z = []\n",
    "        p3z = []\n",
    "        p1 = 0\n",
    "        p2 = 0\n",
    "        p3 = 0\n",
    "        random.shuffle(allzi)\n",
    "\n",
    "        for i in range(len(allzi)):\n",
    "            if i < 12:\n",
    "                p1z.append(allzi[i])\n",
    "            if 12 <= i < 24:\n",
    "                p2z.append(allzi[i])\n",
    "            elif 24 <= i :\n",
    "                p3z.append(allzi[i])\n",
    "        p1z.sort()\n",
    "        p2z.sort()\n",
    "        p3z.sort()\n",
    "        qizu = [p1z,p2z,p3z]\n",
    "        return qizu\n",
    "    def guize(qi,x,y):\n",
    "        if board[x][y] != 0:\n",
    "            return False\n",
    "        if x == 7:\n",
    "            return True\n",
    "        else:\n",
    "            if board[x+1][y] and board[x+1][y+1] != 0 and board[x+1][y+1] != 6 or qi == board[x+1][y+1] and board[x+1][y] != 0 and board[x+1][y] != 6:\n",
    "                 return True\n",
    "            else:\n",
    "                return False\n",
    "    def getPossibleActions():\n",
    "        possibleActions = []\n",
    "        for x in range(len(board)):\n",
    "            for y in range(len(board[x])):\n",
    "                if self.board[x][y] == 0:\n",
    "                    if x == 7:\n",
    "                         for i in range(len(qizu[pid])):\n",
    "                            possibleActions.append([qizu[pid][i],[x,y]])\n",
    "                    else:\n",
    "                        for i in range(len(qizu[pid])):\n",
    "                            if guize(qizu[pid][i],x,y) == True:\n",
    "                                possibleActions.append([qizu[pid][i],[x,y]])\n",
    "        return possibleActions\n",
    "    def takeAction(action):\n",
    "        newState = deepcopy()\n",
    "        newState.board[action.x][action.y] = action.player\n",
    "        newState.currentPlayer = self.currentPlayer * -1\n",
    "        return newState"
   ]
  },
  {
   "cell_type": "code",
   "execution_count": null,
   "metadata": {},
   "outputs": [],
   "source": [
    "\n"
   ]
  },
  {
   "cell_type": "code",
   "execution_count": null,
   "metadata": {},
   "outputs": [],
   "source": []
  }
 ],
 "metadata": {
  "kernelspec": {
   "display_name": "Python 3",
   "language": "python",
   "name": "python3"
  },
  "language_info": {
   "codemirror_mode": {
    "name": "ipython",
    "version": 3
   },
   "file_extension": ".py",
   "mimetype": "text/x-python",
   "name": "python",
   "nbconvert_exporter": "python",
   "pygments_lexer": "ipython3",
   "version": "3.8.0"
  }
 },
 "nbformat": 4,
 "nbformat_minor": 4
}
