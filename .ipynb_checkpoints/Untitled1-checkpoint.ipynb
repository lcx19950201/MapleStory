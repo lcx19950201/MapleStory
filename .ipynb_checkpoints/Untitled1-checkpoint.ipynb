{
 "cells": [
  {
   "cell_type": "code",
   "execution_count": 1,
   "metadata": {},
   "outputs": [],
   "source": [
    "import random"
   ]
  },
  {
   "cell_type": "code",
   "execution_count": 2,
   "metadata": {},
   "outputs": [
    {
     "name": "stdout",
     "output_type": "stream",
     "text": [
      "[[0], [0, 0], [0, 0, 0], [0, 0, 0, 0], [0, 0, 0, 0, 0], [0, 0, 0, 0, 0, 0], [0, 0, 0, 0, 0, 0, 0], [0, 0, 0, 0, 0, 0, 0, 0]]\n"
     ]
    }
   ],
   "source": [
    "board = [[0],\n",
    "         [0,0],\n",
    "         [0,0,0],\n",
    "        [0,0,0,0],\n",
    "        [0,0,0,0,0],\n",
    "        [0,0,0,0,0,0],\n",
    "        [0,0,0,0,0,0,0],\n",
    "        [0,0,0,0,0,0,0,0]]\n",
    "print(board)"
   ]
  },
  {
   "cell_type": "code",
   "execution_count": 3,
   "metadata": {},
   "outputs": [
    {
     "name": "stdout",
     "output_type": "stream",
     "text": [
      "[5, 5, 4, 5, 4, 6, 3, 4, 3, 3, 4, 4, 2, 2, 2, 1, 5, 1, 3, 1, 1, 1, 4, 3, 2, 2, 1, 5, 3, 4, 5, 5, 2, 3, 2, 1]\n",
      "1 [5, 5, 4, 5, 4, 6, 3, 4, 3, 3, 4, 4]\n",
      "2 [2, 2, 2, 1, 5, 1, 3, 1, 1, 1, 4, 3]\n",
      "3 [2, 2, 1, 5, 3, 4, 5, 5, 2, 3, 2, 1]\n"
     ]
    }
   ],
   "source": [
    "allzi = [1,1,1,1,1,1,1,2,2,2,2,2,2,2,3,3,3,3,3,3,3,4,4,4,4,4,4,4,5,5,5,5,5,5,5,6]\n",
    "p1z = []\n",
    "p2z = []\n",
    "p3z = []\n",
    "p1 = 0\n",
    "p2 = 0\n",
    "p3 = 0\n",
    "random.shuffle(allzi)\n",
    "print(allzi)\n",
    "for i in range(len(allzi)):\n",
    "        if i < 12:\n",
    "          p1z.append(allzi[i])\n",
    "        if 12 <= i < 24:\n",
    "          p2z.append(allzi[i])\n",
    "        elif 24 <= i :\n",
    "          p3z.append(allzi[i])\n",
    "print('1',p1z)\n",
    "print('2',p2z)\n",
    "print('3',p3z)"
   ]
  },
  {
   "cell_type": "code",
   "execution_count": 4,
   "metadata": {},
   "outputs": [
    {
     "name": "stdout",
     "output_type": "stream",
     "text": [
      "[[3, 3, 3, 4, 4, 4, 4, 4, 5, 5, 5, 6], [1, 1, 1, 1, 1, 2, 2, 2, 3, 3, 4, 5], [1, 1, 2, 2, 2, 2, 3, 3, 4, 5, 5, 5]]\n"
     ]
    }
   ],
   "source": [
    "p1z.sort()\n",
    "p2z.sort()\n",
    "p3z.sort()\n",
    "qizu = [p1z,p2z,p3z]\n",
    "\n",
    "print(qizu)"
   ]
  },
  {
   "cell_type": "code",
   "execution_count": 5,
   "metadata": {},
   "outputs": [],
   "source": [
    "def xiaqi(pid):\n",
    "    pid = int(pid)-1\n",
    "    print(qizu[pid])\n",
    "    chose = input('要下的棋')\n",
    "    bx = input('bx')\n",
    "    by = input('by')\n",
    "\n",
    "    chose = int(chose)\n",
    "    bx = int(bx)\n",
    "    by = int(by)\n",
    "    chosez = qizu[pid][chose-1]\n",
    "    if guize(chosez,bx-1,by-1) == True:\n",
    "        board[bx-1][by-1] = int(chosez)\n",
    "    else:\n",
    "        print('不可在该位置下棋')\n"
   ]
  },
  {
   "cell_type": "code",
   "execution_count": 8,
   "metadata": {},
   "outputs": [],
   "source": [
    "def guize(qi,x,y):\n",
    "      if board[x][y] != 0:\n",
    "            return False\n",
    "      if x == 7:\n",
    "            return True\n",
    "      else:\n",
    "            if qi == board[x+1][y] & board[x+1][y+1] != 0 or qi == board[x+1][y+1] & board[x+1][y] != 0:\n",
    "                 return True\n",
    "            else:\n",
    "                 return False"
   ]
  },
  {
   "cell_type": "code",
   "execution_count": 9,
   "metadata": {},
   "outputs": [
    {
     "name": "stdout",
     "output_type": "stream",
     "text": [
      "[1, 1, 1, 1, 1, 2, 2, 2, 3, 3, 4, 5]\n",
      "要下的棋1\n",
      "bx8\n",
      "by1\n",
      "[[0], [0, 0], [0, 0, 0], [0, 0, 0, 0], [0, 0, 0, 0, 0], [0, 0, 0, 0, 0, 0], [0, 0, 0, 0, 0, 0, 0], [1, 0, 0, 0, 0, 0, 0, 0]]\n"
     ]
    }
   ],
   "source": [
    "def start():\n",
    "    if max(board[7]) == 0:\n",
    "        print('Game Start')\n",
    "        \n",
    "xiaqi(2)\n",
    "print(board)"
   ]
  },
  {
   "cell_type": "code",
   "execution_count": 10,
   "metadata": {},
   "outputs": [
    {
     "name": "stdout",
     "output_type": "stream",
     "text": [
      "[3, 3, 3, 4, 4, 4, 4, 4, 5, 5, 5, 6]\n",
      "要下的棋1\n",
      "bx8\n",
      "by1\n",
      "不可在该位置下棋\n",
      "[[0], [0, 0], [0, 0, 0], [0, 0, 0, 0], [0, 0, 0, 0, 0], [0, 0, 0, 0, 0, 0], [0, 0, 0, 0, 0, 0, 0], [1, 0, 0, 0, 0, 0, 0, 0]]\n"
     ]
    }
   ],
   "source": [
    "xiaqi(1)\n",
    "print(board)"
   ]
  },
  {
   "cell_type": "code",
   "execution_count": 75,
   "metadata": {},
   "outputs": [
    {
     "name": "stdout",
     "output_type": "stream",
     "text": [
      "[1, 1, 1, 1, 1, 2, 3, 4, 4, 5, 5, 6]\n",
      "要下的棋1\n",
      "bx7\n",
      "by1\n",
      "不可在该位置下棋\n",
      "[[0], [0, 0], [0, 0, 0], [0, 0, 0, 0], [0, 0, 0, 0, 0], [0, 0, 0, 0, 0, 0], [0, 0, 0, 0, 0, 0, 0], [2, 5, 0, 0, 0, 0, 0, 0]]\n"
     ]
    }
   ],
   "source": [
    "xiaqi(3)\n",
    "print(board)"
   ]
  },
  {
   "cell_type": "code",
   "execution_count": 77,
   "metadata": {},
   "outputs": [
    {
     "name": "stdout",
     "output_type": "stream",
     "text": [
      "[1, 1, 2, 3, 3, 3, 3, 4, 4, 4, 5, 5]\n",
      "要下的棋11\n",
      "bx8\n",
      "by3\n",
      "[[0], [0, 0], [0, 0, 0], [0, 0, 0, 0], [0, 0, 0, 0, 0], [0, 0, 0, 0, 0, 0], [0, 0, 0, 0, 0, 0, 0], [2, 5, 5, 0, 0, 0, 0, 0]]\n"
     ]
    }
   ],
   "source": [
    "xiaqi(2)\n",
    "print(board)"
   ]
  },
  {
   "cell_type": "code",
   "execution_count": null,
   "metadata": {},
   "outputs": [
    {
     "name": "stdout",
     "output_type": "stream",
     "text": [
      "[2, 2, 2, 2, 2, 3, 3, 4, 4, 5, 5, 5]\n"
     ]
    }
   ],
   "source": [
    "xiaqi(1)\n",
    "print(board)"
   ]
  },
  {
   "cell_type": "code",
   "execution_count": 79,
   "metadata": {},
   "outputs": [
    {
     "name": "stdout",
     "output_type": "stream",
     "text": [
      "[1, 1, 1, 1, 1, 2, 3, 4, 4, 5, 5, 6]\n",
      "要下的棋11\n",
      "bx8\n",
      "by8\n",
      "[[0], [0, 0], [0, 0, 0], [0, 0, 0, 0], [0, 0, 0, 0, 0], [0, 0, 0, 0, 0, 0], [0, 0, 0, 0, 0, 0, 0], [2, 5, 5, 0, 0, 0, 0, 5]]\n"
     ]
    }
   ],
   "source": [
    "xiaqi(3)\n",
    "print(board)"
   ]
  },
  {
   "cell_type": "code",
   "execution_count": null,
   "metadata": {},
   "outputs": [],
   "source": []
  }
 ],
 "metadata": {
  "kernelspec": {
   "display_name": "Python 3",
   "language": "python",
   "name": "python3"
  },
  "language_info": {
   "codemirror_mode": {
    "name": "ipython",
    "version": 3
   },
   "file_extension": ".py",
   "mimetype": "text/x-python",
   "name": "python",
   "nbconvert_exporter": "python",
   "pygments_lexer": "ipython3",
   "version": "3.8.0"
  }
 },
 "nbformat": 4,
 "nbformat_minor": 4
}
